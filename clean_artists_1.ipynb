{
 "cells": [
  {
   "cell_type": "code",
   "execution_count": null,
   "id": "b4b24995",
   "metadata": {},
   "outputs": [],
   "source": [
    "# Dependencies and Setup\n",
    "import pandas as pd\n",
    "from pathlib import Path\n",
    "\n",
    "# File to Load\n",
    "artists_data_to_load = Path(\"artists.csv\")\n",
    "\n",
    "# Read School and Student Data File and store into Pandas DataFrames\n",
    "artists_data = pd.read_csv(artists_data_to_load, nrows = 100)\n",
    "#school_data.set_index(\"school_name\", inplace=True)\n",
    "\n",
    "\n",
    "# Combine the data into a single dataset.  \n",
    "#school_data_complete = pd.merge(student_data, school_data, how=\"left\", on=[\"school_name\", \"school_name\"])\n",
    "\n",
    "#school_data_complete.set_index(\"school_name\", inplace=True)\n",
    "artists_data.head()"
   ]
  },
  {
   "cell_type": "code",
   "execution_count": null,
   "id": "7122dce4",
   "metadata": {},
   "outputs": [],
   "source": [
    "artist_data_df = artists_data.drop(columns=['mbid', 'artist_mb', 'country_mb', 'tags_mb', 'ambiguous_artist'])\n",
    "\n",
    "artist_data_df"
   ]
  },
  {
   "cell_type": "code",
   "execution_count": null,
   "id": "368e69a0",
   "metadata": {},
   "outputs": [],
   "source": [
    "#Keep original columns\n",
    "\n",
    "artist_data = new_index_df['tags_lastfm'].str.split(';', expand=True).add_prefix('genre_')\n",
    "#print (artist_data)\n",
    "\n",
    "#df[['First Name', 'Last Name']] = df.Student_details.str.split(\",\", expand = True)\n",
    "\n",
    "\n",
    "artist_data"
   ]
  },
  {
   "cell_type": "code",
   "execution_count": null,
   "id": "a703ab10",
   "metadata": {},
   "outputs": [],
   "source": [
    "#Replace genre names with numbers to later consolidate genres\n",
    "#rock = 0 (indcludes \"alternative rock\", \"rock\", 'Funk Rock')\n",
    "#pop = 1\n",
    "#rap = 2\n",
    "#hiphop = 3\n",
    "#indie = 4\n",
    "#country = 5 \n",
    "#r&b = 6\n",
    "\n",
    "artist_data.replace({'rock': 0, 'pop': 1, 'rap': 2, 'hiphop': 3, 'indie': 4, 'country': 5, 'r&b': 6}, inplace=True)\n",
    "\n",
    "\n",
    "print(artist_data)"
   ]
  },
  {
   "cell_type": "code",
   "execution_count": null,
   "id": "314fa833",
   "metadata": {},
   "outputs": [],
   "source": [
    "#Loop through and replace the first 20 columns\n",
    "#Create new columns with numbers 1's/0's"
   ]
  }
 ],
 "metadata": {
  "kernelspec": {
   "display_name": "Python 3 (ipykernel)",
   "language": "python",
   "name": "python3"
  },
  "language_info": {
   "codemirror_mode": {
    "name": "ipython",
    "version": 3
   },
   "file_extension": ".py",
   "mimetype": "text/x-python",
   "name": "python",
   "nbconvert_exporter": "python",
   "pygments_lexer": "ipython3",
   "version": "3.10.9"
  }
 },
 "nbformat": 4,
 "nbformat_minor": 5
}
